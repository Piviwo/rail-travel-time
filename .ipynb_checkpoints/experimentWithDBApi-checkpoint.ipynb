{
 "cells": [
  {
   "cell_type": "code",
   "execution_count": 1,
   "metadata": {},
   "outputs": [],
   "source": [
    "import requests\n",
    "import os"
   ]
  },
  {
   "cell_type": "code",
   "execution_count": 2,
   "metadata": {},
   "outputs": [],
   "source": [
    "def get_api_id():\n",
    "    with open(\".env\", \"r\") as f:\n",
    "        for line in f:\n",
    "            listing = line.strip().split(\"=\")\n",
    "            if listing[0] == \"DB_API_ID\":\n",
    "                return listing[1]\n",
    "\n",
    "def get_api_secret():\n",
    "    with open(\".env\", \"r\") as f:\n",
    "        for line in f:\n",
    "            listing = line.strip().split(\"=\")\n",
    "            if listing[0] == \"DB_API_KEY\":\n",
    "                return listing[1]\n"
   ]
  },
  {
   "cell_type": "code",
   "execution_count": 3,
   "metadata": {},
   "outputs": [],
   "source": [
    "def get_arrivals(eva_numbers, base_url):\n",
    "    #url = \"https://apis.deutschebahn.com/db-api-marketplace/apis/ris-stations/v1/connecting-times/REPLACE_EVANUMBER?group=REPLACE_THIS_VALUE&calculateSectors=REPLACE_THIS_VALUE&REPLACE_PERSONATYPES&REPLACE_SOURCE\"\n",
    "    headers = {\n",
    "                \"DB-Client-ID\": get_api_id().replace(\"\\'\", \"\"),\n",
    "                \"DB-Api-Key\": get_api_secret().replace(\"\\'\", \"\"),\n",
    "                \"accept\": \"application/vnd.de.db.ris+json\"\n",
    "            }\n",
    "    arrivals_data = []\n",
    "\n",
    "    for eva_number in eva_numbers:\n",
    "        url = base_url + str(eva_number)\n",
    "        response = requests.get(url, headers=headers)\n",
    "        if response.status_code == 200:\n",
    "            arrivals_data.append(response.json())\n",
    "        else:\n",
    "            print(f\"Failed to fetch data for EVA number {eva_number}\")\n",
    "\n",
    "    return arrivals_data"
   ]
  },
  {
   "cell_type": "code",
   "execution_count": 4,
   "metadata": {},
   "outputs": [],
   "source": [
    "url_connections=\"https://apis.deutschebahn.com/db-api-marketplace/apis/ris-stations/v1/connecting-times/\"\n",
    "url_platforms=\"https://apis.deutschebahn.com/db-api-marketplace/apis/ris-stations/v1/platforms/\"\n",
    "url_stations=\"https://apis.deutschebahn.com/db-api-marketplace/apis/ris-stations/v1/stations/\" \n",
    "# stations API only have stationID\n",
    "url_stops=\"https://apis.deutschebahn.com/db-api-marketplace/apis/ris-stations/v1/stop-places/\"\n",
    "# stops API have evanumber and stationID, so can be linked to that"
   ]
  },
  {
   "cell_type": "code",
   "execution_count": 29,
   "metadata": {},
   "outputs": [
    {
     "name": "stdout",
     "output_type": "stream",
     "text": [
      "8000105 8089505 [('FREQUENT_TRAVELLER', 'PT15M'), ('HANDICAPPED', 'PT15M'), ('OCCASIONAL_TRAVELLER', 'PT15M')]\n",
      "8000105 8089211 [('FREQUENT_TRAVELLER', 'PT15M'), ('HANDICAPPED', 'PT15M'), ('OCCASIONAL_TRAVELLER', 'PT15M')]\n",
      "8000105 160865 [('FREQUENT_TRAVELLER', 'PT8M'), ('HANDICAPPED', 'PT8M'), ('OCCASIONAL_TRAVELLER', 'PT8M')]\n",
      "8000105 100010 [('FREQUENT_TRAVELLER', 'PT10M'), ('HANDICAPPED', 'PT10M'), ('OCCASIONAL_TRAVELLER', 'PT10M')]\n",
      "8000105 100008 [('FREQUENT_TRAVELLER', 'PT10M'), ('HANDICAPPED', 'PT10M'), ('OCCASIONAL_TRAVELLER', 'PT10M')]\n",
      "8000105 8002041 [('FREQUENT_TRAVELLER', 'PT10M'), ('HANDICAPPED', 'PT10M'), ('OCCASIONAL_TRAVELLER', 'PT10M')]\n",
      "8000105 8002042 [('FREQUENT_TRAVELLER', 'PT10M'), ('HANDICAPPED', 'PT10M'), ('OCCASIONAL_TRAVELLER', 'PT10M')]\n",
      "8000105 8002050 [('FREQUENT_TRAVELLER', 'PT10M'), ('HANDICAPPED', 'PT10M'), ('OCCASIONAL_TRAVELLER', 'PT10M')]\n",
      "8000105 102972 [('FREQUENT_TRAVELLER', 'PT10M'), ('HANDICAPPED', 'PT10M'), ('OCCASIONAL_TRAVELLER', 'PT10M')]\n",
      "8000105 107011 [('FREQUENT_TRAVELLER', 'PT9M'), ('HANDICAPPED', 'PT9M'), ('OCCASIONAL_TRAVELLER', 'PT9M')]\n",
      "8000105 8098105 [('FREQUENT_TRAVELLER', 'PT10M'), ('HANDICAPPED', 'PT10M'), ('OCCASIONAL_TRAVELLER', 'PT10M')]\n",
      "8000207 8000208 [('FREQUENT_TRAVELLER', 'PT25M'), ('HANDICAPPED', 'PT25M'), ('OCCASIONAL_TRAVELLER', 'PT25M')]\n",
      "8000207 440404 [('FREQUENT_TRAVELLER', 'PT9M'), ('HANDICAPPED', 'PT9M'), ('OCCASIONAL_TRAVELLER', 'PT9M')]\n",
      "8000207 8089322 [('FREQUENT_TRAVELLER', 'PT15M'), ('HANDICAPPED', 'PT15M'), ('OCCASIONAL_TRAVELLER', 'PT15M')]\n",
      "8000207 8073368 [('FREQUENT_TRAVELLER', 'PT3M'), ('HANDICAPPED', 'PT3M'), ('OCCASIONAL_TRAVELLER', 'PT3M')]\n",
      "8000207 444919 [('FREQUENT_TRAVELLER', 'PT9M'), ('HANDICAPPED', 'PT9M'), ('OCCASIONAL_TRAVELLER', 'PT9M')]\n",
      "8000207 8003368 [('FREQUENT_TRAVELLER', 'PT3M'), ('HANDICAPPED', 'PT3M'), ('OCCASIONAL_TRAVELLER', 'PT3M')]\n",
      "8000304 609661 [('FREQUENT_TRAVELLER', 'PT3M'), ('HANDICAPPED', 'PT3M'), ('OCCASIONAL_TRAVELLER', 'PT3M')]\n"
     ]
    }
   ],
   "source": [
    "# Example usage:\n",
    "# connecting times are the time a traveler needs to change between platforms (evaNumbers)\n",
    "eva_numbers = [8000105, 8000207, 8000304]  # Example EVA numbers\n",
    "arrivals = get_arrivals(eva_numbers, url_connections)\n",
    "for data in arrivals:\n",
    "    for liste in data['connectingTimesList']:\n",
    "        if(liste['fromEvaNumber'].__eq__(liste['toEvaNumber'])): continue\n",
    "        else:\n",
    "            print(liste['fromEvaNumber'], liste['toEvaNumber'], [(i['persona'],i['duration']) for i in liste['times'][:]])\n",
    "             # Do whatever you need with the data"
   ]
  },
  {
   "cell_type": "code",
   "execution_count": 30,
   "metadata": {},
   "outputs": [
    {
     "name": "stdout",
     "output_type": "stream",
     "text": [
      "{'stopPlaces': [{'evaNumber': '8000105', 'stationID': '1866', 'names': {'DE': {'nameLong': 'Frankfurt(Main)Hbf', 'speechLong': 'Frankfurt am Main Hbf', 'speechShort': 'Frankfurt Hbf', 'synonyms': ['Francfort (Main)']}}, 'metropolis': {'DE': 'Frankfurt am Main'}, 'availableTransports': ['INTERCITY_TRAIN', 'CITY_TRAIN', 'INTER_REGIONAL_TRAIN', 'BUS', 'HIGH_SPEED_TRAIN', 'REGIONAL_TRAIN'], 'transportAssociations': ['RMV'], 'countryCode': 'DE', 'state': 'HE', 'municipalityKey': '06412000', 'timeZone': 'Europe/Berlin', 'position': {'longitude': 8.663789, 'latitude': 50.107145}}]}\n",
      "{'stopPlaces': [{'evaNumber': '8000207', 'stationID': '3320', 'names': {'DE': {'nameLong': 'Köln Hbf', 'speechLong': 'Köln Hbf', 'speechShort': 'Köln Hbf', 'synonyms': ['Colonia(Köln)']}}, 'availableTransports': ['INTERCITY_TRAIN', 'CITY_TRAIN', 'INTER_REGIONAL_TRAIN', 'BUS', 'HIGH_SPEED_TRAIN', 'REGIONAL_TRAIN'], 'transportAssociations': ['VRS'], 'countryCode': 'DE', 'state': 'NW', 'municipalityKey': '05315000', 'timeZone': 'Europe/Berlin', 'position': {'longitude': 6.958729, 'latitude': 50.94303}}]}\n",
      "{'stopPlaces': [{'evaNumber': '8000304', 'stationID': '5066', 'names': {'DE': {'nameLong': 'Quakenbrück', 'synonyms': []}}, 'availableTransports': ['REGIONAL_TRAIN'], 'transportAssociations': ['IAM'], 'countryCode': 'DE', 'state': 'NI', 'municipalityKey': '03459030', 'timeZone': 'Europe/Berlin', 'position': {'longitude': 7.947819, 'latitude': 52.673943}}]}\n"
     ]
    }
   ],
   "source": [
    "# Example usage:\n",
    "# stops are where trains arrive at a station (station plus platform)\n",
    "eva_numbers = [8000105, 8000207, 8000304]  # Example EVA numbers\n",
    "stops = get_arrivals(eva_numbers, url_stops)\n",
    "for data in stops:\n",
    "    print(data)  # Do whatever you need with the data"
   ]
  },
  {
   "cell_type": "code",
   "execution_count": 7,
   "metadata": {},
   "outputs": [],
   "source": [
    "stationIds=[]\n",
    "for stopentry in stops:\n",
    "    for stop in stopentry['stopPlaces']:\n",
    "        stationIds.append(stop['stationID'])"
   ]
  },
  {
   "cell_type": "code",
   "execution_count": 37,
   "metadata": {},
   "outputs": [],
   "source": [
    "# Example usage:\n",
    "# stations are the single stations, referred to with stationID \n",
    "stations = get_arrivals(stationIds, url_stations)\n",
    "for data in stations:\n",
    "    \n",
    "    print(data['stationID'], data['names']['DE']['name'], data['address']['country'], data['position']['longitude'], data['position']['latitude'])  # Do whatever you need with the data"
   ]
  },
  {
   "cell_type": "code",
   "execution_count": null,
   "metadata": {},
   "outputs": [],
   "source": []
  }
 ],
 "metadata": {
  "kernelspec": {
   "display_name": "Python 3 (ipykernel)",
   "language": "python",
   "name": "python3"
  },
  "language_info": {
   "codemirror_mode": {
    "name": "ipython",
    "version": 3
   },
   "file_extension": ".py",
   "mimetype": "text/x-python",
   "name": "python",
   "nbconvert_exporter": "python",
   "pygments_lexer": "ipython3",
   "version": "3.11.5"
  }
 },
 "nbformat": 4,
 "nbformat_minor": 2
}
