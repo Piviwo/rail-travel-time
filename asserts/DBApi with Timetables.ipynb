{
 "cells": [
  {
   "cell_type": "code",
   "execution_count": 1,
   "id": "39d75af1",
   "metadata": {},
   "outputs": [],
   "source": [
    "import requests\n",
    "import os\n",
    "import pandas as pd\n",
    "import numpy"
   ]
  },
  {
   "cell_type": "code",
   "execution_count": 2,
   "id": "403274aa",
   "metadata": {},
   "outputs": [],
   "source": [
    "def get_api_id():\n",
    "    with open(\".env\", \"r\") as f:\n",
    "        for line in f:\n",
    "            listing = line.strip().split(\"=\")\n",
    "            if listing[0] == \"DB_API_ID\":\n",
    "                return listing[1]\n",
    "\n",
    "def get_api_secret():\n",
    "    with open(\".env\", \"r\") as f:\n",
    "        for line in f:\n",
    "            listing = line.strip().split(\"=\")\n",
    "            if listing[0] == \"DB_API_KEY\":\n",
    "                return listing[1]\n"
   ]
  },
  {
   "cell_type": "code",
   "execution_count": 24,
   "id": "ef0f8767",
   "metadata": {},
   "outputs": [],
   "source": [
    "def get_EVAbyName(station_names):\n",
    "    url = \"https://apis.deutschebahn.com/db-api-marketplace/apis/ris-stations/v1/stop-places/by-name/\"\n",
    "    headers = {\n",
    "                \"DB-Client-ID\": \"c3ff7cbf26563615a6b0f0ef81fff3b6\",\n",
    "                \"DB-Api-Key\": \"03408a082deb900e39719a0f7910f040\",\n",
    "                \"accept\": \"application/vnd.de.db.ris+json\"\n",
    "            }\n",
    "    eva_numbers = []\n",
    "\n",
    "    for name in station_names:\n",
    "        url = url + str(name)\n",
    "        response = requests.get(url, headers=headers)\n",
    "        if response.status_code == 200:\n",
    "            temp = []\n",
    "            # get response\n",
    "            temp.append(response.json())\n",
    "            # now sort out that response is actually correct\n",
    "            l = []\n",
    "            for i in temp:\n",
    "                for j in i['stopPlaces']:\n",
    "                    l.append((j['evaNumber'], j['names']['DE']['nameLong']))\n",
    "            # now remove all entries that are not correct:\n",
    "            new_list=[li for li in l if li[1] == name]\n",
    "            eva_numbers.append(new_list)\n",
    "            \n",
    "        else:\n",
    "            print(f\"Failed to fetch data for station {name}\")\n",
    "    \n",
    " \n",
    "    # flatten\n",
    "    return [x for xs in eva_numbers  for x in  xs]"
   ]
  },
  {
   "cell_type": "code",
   "execution_count": 28,
   "id": "d9b4b72e",
   "metadata": {},
   "outputs": [
    {
     "data": {
      "text/plain": [
       "'8000105'"
      ]
     },
     "execution_count": 28,
     "metadata": {},
     "output_type": "execute_result"
    }
   ],
   "source": [
    "eva_number = get_EVAbyName([\"Frankfurt(Main)Hbf\"])[0][0]\n",
    "eva_number"
   ]
  },
  {
   "cell_type": "code",
   "execution_count": 38,
   "id": "b8639f85",
   "metadata": {},
   "outputs": [],
   "source": [
    "def timetable(date, time, station_name, base_url=\"https://apis.deutschebahn.com/db-api-marketplace/apis/timetables/v1/plan/\"):\n",
    "    eva_number = get_EVAbyName([station_name])[0][0]\n",
    "    if(eva_number==[]):\n",
    "        print(f\"Failed to fetch station\")\n",
    "        return []\n",
    "    headers = {\n",
    "                \"DB-Client-ID\": \"c3ff7cbf26563615a6b0f0ef81fff3b6\",\n",
    "                \"DB-Api-Key\": \"03408a082deb900e39719a0f7910f040\",\n",
    "                \"accept\": \"application/xml\"\n",
    "            }\n",
    "    # time in HH\n",
    "    # date in YYMMDD\n",
    "    url = base_url + str(eva_number) + \"/\" + str(date) + \"/\" + str(time)\n",
    "    #url='https://apis.deutschebahn.com/db-api-marketplace/apis/timetables/v1/plan/8000105/240523/08'\n",
    "    response = requests.get(url, headers=headers)\n",
    "    print(response.text)\n",
    "    if response.status_code == 200:\n",
    "        timetable1=pd.read_xml(response.text, xpath=\".//tl\")\n",
    "        timetable2=pd.read_xml(response.text, xpath=\".//dp\")\n",
    "        timetable3=pd.read_xml(response.text, xpath=\".//s\")\n",
    "        timetable = pd.concat([timetable1,timetable2,timetable3], axis=1)\n",
    "    else:\n",
    "        print(f\"Failed to fetch timetable\")\n",
    "        timetable=[]\n",
    "    return timetable"
   ]
  },
  {
   "cell_type": "code",
   "execution_count": 39,
   "id": "412d9d35",
   "metadata": {},
   "outputs": [
    {
     "name": "stdout",
     "output_type": "stream",
     "text": [
      "\n",
      "Failed to fetch timetable\n"
     ]
    },
    {
     "data": {
      "text/plain": [
       "[]"
      ]
     },
     "execution_count": 39,
     "metadata": {},
     "output_type": "execute_result"
    }
   ],
   "source": [
    "timetable(\"240523\",\"09\",\"Frankfurt(Main)Hbf\")"
   ]
  },
  {
   "cell_type": "code",
   "execution_count": 90,
   "id": "d96b8a42",
   "metadata": {},
   "outputs": [
    {
     "data": {
      "text/plain": [
       "list"
      ]
     },
     "execution_count": 90,
     "metadata": {},
     "output_type": "execute_result"
    }
   ],
   "source": [
    "type(get_EVAbyName(\"Frankfurt(Main)Hbf\"))"
   ]
  },
  {
   "cell_type": "code",
   "execution_count": 4,
   "id": "340b7cdc",
   "metadata": {},
   "outputs": [
    {
     "ename": "NameError",
     "evalue": "name 'ApiAuthentication' is not defined",
     "output_type": "error",
     "traceback": [
      "\u001b[1;31m---------------------------------------------------------------------------\u001b[0m",
      "\u001b[1;31mNameError\u001b[0m                                 Traceback (most recent call last)",
      "Cell \u001b[1;32mIn[4], line 1\u001b[0m\n\u001b[1;32m----> 1\u001b[0m api \u001b[38;5;241m=\u001b[39m ApiAuthentication(get_api_id()\u001b[38;5;241m.\u001b[39mreplace(\u001b[38;5;124m\"\u001b[39m\u001b[38;5;130;01m\\'\u001b[39;00m\u001b[38;5;124m\"\u001b[39m, \u001b[38;5;124m\"\u001b[39m\u001b[38;5;124m\"\u001b[39m), get_api_secret()\u001b[38;5;241m.\u001b[39mreplace(\u001b[38;5;124m\"\u001b[39m\u001b[38;5;130;01m\\'\u001b[39;00m\u001b[38;5;124m\"\u001b[39m, \u001b[38;5;124m\"\u001b[39m\u001b[38;5;124m\"\u001b[39m))\n\u001b[0;32m      2\u001b[0m success: \u001b[38;5;28mbool\u001b[39m \u001b[38;5;241m=\u001b[39m api\u001b[38;5;241m.\u001b[39mtest_credentials()\n",
      "\u001b[1;31mNameError\u001b[0m: name 'ApiAuthentication' is not defined"
     ]
    }
   ],
   "source": [
    "api = ApiAuthentication(get_api_id().replace(\"\\'\", \"\"), get_api_secret().replace(\"\\'\", \"\"))\n",
    "success: bool = api.test_credentials()"
   ]
  },
  {
   "cell_type": "code",
   "execution_count": null,
   "id": "2d3ed394",
   "metadata": {},
   "outputs": [],
   "source": [
    "station_helper = StationHelper()\n",
    "found_stations = station_helper.find_stations_by_lat_long(47.996713, 7.842174, 10)\n",
    "found_stations_by_name = station_helper.find_stations_by_name(\"Freiburg\")"
   ]
  },
  {
   "cell_type": "code",
   "execution_count": null,
   "id": "e35b2bae",
   "metadata": {},
   "outputs": [],
   "source": [
    "timetable_helper = TimetableHelper(YOUR_STATION_OBJECT, YOUR_API_AUTHENTICATION_OBJECT)\n",
    "trains_in_this_hour = timetable_helper.get_timetable()\n",
    "trains_at_given_hour = timetable_helper.get_timetable(12)"
   ]
  },
  {
   "cell_type": "code",
   "execution_count": null,
   "id": "a20d9ada",
   "metadata": {},
   "outputs": [],
   "source": [
    "trains_with_changes = timetable_helper.get_timetable_changes(trains)"
   ]
  }
 ],
 "metadata": {
  "kernelspec": {
   "display_name": "Python 3 (ipykernel)",
   "language": "python",
   "name": "python3"
  },
  "language_info": {
   "codemirror_mode": {
    "name": "ipython",
    "version": 3
   },
   "file_extension": ".py",
   "mimetype": "text/x-python",
   "name": "python",
   "nbconvert_exporter": "python",
   "pygments_lexer": "ipython3",
   "version": "3.11.5"
  }
 },
 "nbformat": 4,
 "nbformat_minor": 5
}
