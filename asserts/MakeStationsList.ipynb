{
 "cells": [
  {
   "cell_type": "code",
   "execution_count": 277,
   "metadata": {},
   "outputs": [],
   "source": [
    "import requests\n",
    "import os\n",
    "import pandas as pd"
   ]
  },
  {
   "cell_type": "code",
   "execution_count": 278,
   "metadata": {},
   "outputs": [],
   "source": [
    "def get_api_id():\n",
    "    with open(\".env\", \"r\") as f:\n",
    "        for line in f:\n",
    "            listing = line.strip().split(\"=\")\n",
    "            if listing[0] == \"DB_API_ID\":\n",
    "                return listing[1]\n",
    "\n",
    "def get_api_secret():\n",
    "    with open(\".env\", \"r\") as f:\n",
    "        for line in f:\n",
    "            listing = line.strip().split(\"=\")\n",
    "            if listing[0] == \"DB_API_KEY\":\n",
    "                return listing[1]\n"
   ]
  },
  {
   "cell_type": "code",
   "execution_count": 309,
   "metadata": {},
   "outputs": [],
   "source": [
    "def stations2file():\n",
    "    # to get list of all stations:\n",
    "    base_url=\"https://apis.deutschebahn.com/db-api-marketplace/apis/ris-stations/v1/stations?limit=6000\"\n",
    "    headers = {\n",
    "                \"DB-Client-ID\": get_api_id().replace(\"\\'\", \"\"),\n",
    "                \"DB-Api-Key\": get_api_secret().replace(\"\\'\", \"\"),\n",
    "                \"accept\": \"application/vnd.de.db.ris+json\"\n",
    "            }\n",
    "\n",
    "    response = requests.get(base_url, headers=headers)\n",
    "    if response.status_code == 200:\n",
    "        stations_data=pd.read_json(response.text)\n",
    "        list_df =[stations_data['stations'][i] for i in range(stations_data['stations'].shape[0])]\n",
    "        df_stations = pd.DataFrame.from_dict(list_df)\n",
    "        rows = []\n",
    "        # appending rows\n",
    "        for data in list_df:\n",
    "            data_row1 = data['address']\n",
    "            data_row1['name'] = data['names']['DE']['name']\n",
    "            data_row1['stationID']=data['stationID']\n",
    "\n",
    "            if('position' in data.keys()):\n",
    "                data_row1['latitude'] = data['position']['latitude']\n",
    "                data_row1['longitude'] = data['position']['longitude']\n",
    "            rows.append(data_row1)\n",
    "        dfnew = pd.DataFrame(rows)\n",
    "    else:\n",
    "        print(f\"Failed to fetch data\")\n",
    "        dfnew=[]\n",
    "\n",
    "    dfnew.drop(columns=['street','houseNumber','postalCode']).to_json(r\"./data/cities_forTimetable.json\")\n",
    "    return 0"
   ]
  },
  {
   "cell_type": "code",
   "execution_count": 310,
   "metadata": {},
   "outputs": [
    {
     "name": "stderr",
     "output_type": "stream",
     "text": [
      "C:\\Users\\ricat\\AppData\\Local\\Temp\\ipykernel_1960\\4249492940.py:12: FutureWarning: Passing literal json to 'read_json' is deprecated and will be removed in a future version. To read from a literal string, wrap it in a 'StringIO' object.\n",
      "  stations_data=pd.read_json(response.text)\n"
     ]
    },
    {
     "data": {
      "text/plain": [
       "0"
      ]
     },
     "execution_count": 310,
     "metadata": {},
     "output_type": "execute_result"
    }
   ],
   "source": [
    "stations2file()"
   ]
  }
 ],
 "metadata": {
  "kernelspec": {
   "display_name": "Python 3 (ipykernel)",
   "language": "python",
   "name": "python3"
  },
  "language_info": {
   "codemirror_mode": {
    "name": "ipython",
    "version": 3
   },
   "file_extension": ".py",
   "mimetype": "text/x-python",
   "name": "python",
   "nbconvert_exporter": "python",
   "pygments_lexer": "ipython3",
   "version": "3.11.5"
  }
 },
 "nbformat": 4,
 "nbformat_minor": 2
}
